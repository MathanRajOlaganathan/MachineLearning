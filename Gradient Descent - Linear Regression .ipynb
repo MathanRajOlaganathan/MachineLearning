{
 "cells": [
  {
   "cell_type": "code",
   "execution_count": 227,
   "metadata": {},
   "outputs": [],
   "source": [
    "import pandas as pd\n",
    "import numpy as np\n",
    "from sklearn.linear_model import LinearRegression\n",
    "from sklearn.preprocessing import StandardScaler,normalize\n",
    "from sklearn.model_selection import train_test_split,cross_val_score\n",
    "from sklearn.metrics import mean_squared_error, r2_score, mean_absolute_error\n",
    "import matplotlib.pyplot as plt\n",
    "import seaborn as sns\n",
    "%matplotlib inline"
   ]
  },
  {
   "cell_type": "markdown",
   "metadata": {},
   "source": [
    "## Steps"
   ]
  },
  {
   "cell_type": "raw",
   "metadata": {},
   "source": [
    "1.Define the problem\n",
    "2.Fetch the data\n",
    "3.Explore the data(Data Pre-processing and Visualisation)\n",
    "4.Model the data\n",
    "5.Communicate the analysis of the data"
   ]
  },
  {
   "cell_type": "markdown",
   "metadata": {},
   "source": [
    "## Business Goal"
   ]
  },
  {
   "cell_type": "markdown",
   "metadata": {},
   "source": [
    "Predict the salary based on the years of experience"
   ]
  },
  {
   "cell_type": "markdown",
   "metadata": {},
   "source": [
    "## Read the Data"
   ]
  },
  {
   "cell_type": "code",
   "execution_count": 228,
   "metadata": {},
   "outputs": [],
   "source": [
    "file = \"P:/Datasets/salary-data-simple-linear-regression/Salary_Data.csv\"\n",
    "df = pd.read_csv(file)"
   ]
  },
  {
   "cell_type": "markdown",
   "metadata": {},
   "source": [
    "## Data Analysis"
   ]
  },
  {
   "cell_type": "code",
   "execution_count": 229,
   "metadata": {},
   "outputs": [
    {
     "name": "stdout",
     "output_type": "stream",
     "text": [
      "<class 'pandas.core.frame.DataFrame'>\n",
      "RangeIndex: 30 entries, 0 to 29\n",
      "Data columns (total 2 columns):\n",
      "YearsExperience    30 non-null float64\n",
      "Salary             30 non-null float64\n",
      "dtypes: float64(2)\n",
      "memory usage: 608.0 bytes\n"
     ]
    }
   ],
   "source": [
    "df.info()"
   ]
  },
  {
   "cell_type": "code",
   "execution_count": 230,
   "metadata": {
    "scrolled": false
   },
   "outputs": [
    {
     "data": {
      "text/html": [
       "<div>\n",
       "<style scoped>\n",
       "    .dataframe tbody tr th:only-of-type {\n",
       "        vertical-align: middle;\n",
       "    }\n",
       "\n",
       "    .dataframe tbody tr th {\n",
       "        vertical-align: top;\n",
       "    }\n",
       "\n",
       "    .dataframe thead th {\n",
       "        text-align: right;\n",
       "    }\n",
       "</style>\n",
       "<table border=\"1\" class=\"dataframe\">\n",
       "  <thead>\n",
       "    <tr style=\"text-align: right;\">\n",
       "      <th></th>\n",
       "      <th>count</th>\n",
       "      <th>mean</th>\n",
       "      <th>std</th>\n",
       "      <th>min</th>\n",
       "      <th>25%</th>\n",
       "      <th>50%</th>\n",
       "      <th>75%</th>\n",
       "      <th>max</th>\n",
       "    </tr>\n",
       "  </thead>\n",
       "  <tbody>\n",
       "    <tr>\n",
       "      <th>YearsExperience</th>\n",
       "      <td>30.0</td>\n",
       "      <td>5.313333</td>\n",
       "      <td>2.837888</td>\n",
       "      <td>1.1</td>\n",
       "      <td>3.20</td>\n",
       "      <td>4.7</td>\n",
       "      <td>7.70</td>\n",
       "      <td>10.5</td>\n",
       "    </tr>\n",
       "    <tr>\n",
       "      <th>Salary</th>\n",
       "      <td>30.0</td>\n",
       "      <td>76003.000000</td>\n",
       "      <td>27414.429785</td>\n",
       "      <td>37731.0</td>\n",
       "      <td>56720.75</td>\n",
       "      <td>65237.0</td>\n",
       "      <td>100544.75</td>\n",
       "      <td>122391.0</td>\n",
       "    </tr>\n",
       "  </tbody>\n",
       "</table>\n",
       "</div>"
      ],
      "text/plain": [
       "                 count          mean           std      min       25%  \\\n",
       "YearsExperience   30.0      5.313333      2.837888      1.1      3.20   \n",
       "Salary            30.0  76003.000000  27414.429785  37731.0  56720.75   \n",
       "\n",
       "                     50%        75%       max  \n",
       "YearsExperience      4.7       7.70      10.5  \n",
       "Salary           65237.0  100544.75  122391.0  "
      ]
     },
     "execution_count": 230,
     "metadata": {},
     "output_type": "execute_result"
    }
   ],
   "source": [
    "df.describe().T"
   ]
  },
  {
   "cell_type": "code",
   "execution_count": 231,
   "metadata": {
    "scrolled": true
   },
   "outputs": [
    {
     "data": {
      "text/html": [
       "<div>\n",
       "<style scoped>\n",
       "    .dataframe tbody tr th:only-of-type {\n",
       "        vertical-align: middle;\n",
       "    }\n",
       "\n",
       "    .dataframe tbody tr th {\n",
       "        vertical-align: top;\n",
       "    }\n",
       "\n",
       "    .dataframe thead th {\n",
       "        text-align: right;\n",
       "    }\n",
       "</style>\n",
       "<table border=\"1\" class=\"dataframe\">\n",
       "  <thead>\n",
       "    <tr style=\"text-align: right;\">\n",
       "      <th></th>\n",
       "      <th>YearsExperience</th>\n",
       "      <th>Salary</th>\n",
       "    </tr>\n",
       "  </thead>\n",
       "  <tbody>\n",
       "    <tr>\n",
       "      <th>0</th>\n",
       "      <td>1.1</td>\n",
       "      <td>39343.0</td>\n",
       "    </tr>\n",
       "    <tr>\n",
       "      <th>1</th>\n",
       "      <td>1.3</td>\n",
       "      <td>46205.0</td>\n",
       "    </tr>\n",
       "    <tr>\n",
       "      <th>2</th>\n",
       "      <td>1.5</td>\n",
       "      <td>37731.0</td>\n",
       "    </tr>\n",
       "    <tr>\n",
       "      <th>3</th>\n",
       "      <td>2.0</td>\n",
       "      <td>43525.0</td>\n",
       "    </tr>\n",
       "    <tr>\n",
       "      <th>4</th>\n",
       "      <td>2.2</td>\n",
       "      <td>39891.0</td>\n",
       "    </tr>\n",
       "  </tbody>\n",
       "</table>\n",
       "</div>"
      ],
      "text/plain": [
       "   YearsExperience   Salary\n",
       "0              1.1  39343.0\n",
       "1              1.3  46205.0\n",
       "2              1.5  37731.0\n",
       "3              2.0  43525.0\n",
       "4              2.2  39891.0"
      ]
     },
     "execution_count": 231,
     "metadata": {},
     "output_type": "execute_result"
    }
   ],
   "source": [
    "df.head()"
   ]
  },
  {
   "cell_type": "code",
   "execution_count": 232,
   "metadata": {
    "scrolled": true
   },
   "outputs": [
    {
     "data": {
      "text/plain": [
       "YearsExperience    0\n",
       "Salary             0\n",
       "dtype: int64"
      ]
     },
     "execution_count": 232,
     "metadata": {},
     "output_type": "execute_result"
    }
   ],
   "source": [
    "df.isnull().sum()"
   ]
  },
  {
   "cell_type": "code",
   "execution_count": 233,
   "metadata": {
    "scrolled": false
   },
   "outputs": [
    {
     "data": {
      "text/plain": [
       "0"
      ]
     },
     "execution_count": 233,
     "metadata": {},
     "output_type": "execute_result"
    }
   ],
   "source": [
    "df.duplicated().sum()"
   ]
  },
  {
   "cell_type": "markdown",
   "metadata": {},
   "source": [
    "## Visualising the data"
   ]
  },
  {
   "cell_type": "code",
   "execution_count": 234,
   "metadata": {
    "scrolled": false
   },
   "outputs": [
    {
     "data": {
      "text/plain": [
       "Text(0, 0.5, 'Salary')"
      ]
     },
     "execution_count": 234,
     "metadata": {},
     "output_type": "execute_result"
    },
    {
     "data": {
      "image/png": "[encoded data removed]",
      "text/plain": [
       "<Figure size 432x288 with 1 Axes>"
      ]
     },
     "metadata": {
      "needs_background": "light"
     },
     "output_type": "display_data"
    }
   ],
   "source": [
    "plt.scatter(df.YearsExperience,df.Salary, c='r')\n",
    "plt.xlabel('Years of Experience')\n",
    "plt.ylabel('Salary')"
   ]
  },
  {
   "cell_type": "code",
   "execution_count": 235,
   "metadata": {},
   "outputs": [
    {
     "data": {
      "text/html": [
       "<div>\n",
       "<style scoped>\n",
       "    .dataframe tbody tr th:only-of-type {\n",
       "        vertical-align: middle;\n",
       "    }\n",
       "\n",
       "    .dataframe tbody tr th {\n",
       "        vertical-align: top;\n",
       "    }\n",
       "\n",
       "    .dataframe thead th {\n",
       "        text-align: right;\n",
       "    }\n",
       "</style>\n",
       "<table border=\"1\" class=\"dataframe\">\n",
       "  <thead>\n",
       "    <tr style=\"text-align: right;\">\n",
       "      <th></th>\n",
       "      <th>YearsExperience</th>\n",
       "      <th>Salary</th>\n",
       "    </tr>\n",
       "  </thead>\n",
       "  <tbody>\n",
       "    <tr>\n",
       "      <th>YearsExperience</th>\n",
       "      <td>1.000000</td>\n",
       "      <td>0.978242</td>\n",
       "    </tr>\n",
       "    <tr>\n",
       "      <th>Salary</th>\n",
       "      <td>0.978242</td>\n",
       "      <td>1.000000</td>\n",
       "    </tr>\n",
       "  </tbody>\n",
       "</table>\n",
       "</div>"
      ],
      "text/plain": [
       "                 YearsExperience    Salary\n",
       "YearsExperience         1.000000  0.978242\n",
       "Salary                  0.978242  1.000000"
      ]
     },
     "execution_count": 235,
     "metadata": {},
     "output_type": "execute_result"
    }
   ],
   "source": [
    "df.corr()"
   ]
  },
  {
   "cell_type": "markdown",
   "metadata": {},
   "source": [
    "###### There is a high correlation between YearsExperience and Salary and therefore we can use linear regression to fit the data. There are no outliers."
   ]
  },
  {
   "cell_type": "markdown",
   "metadata": {},
   "source": [
    "###### Linear Regression is a supervised machine learning algorithm.It preditcs dependent variable(y) for a given independent variable(x).Basically, it will try to find a linear releastionship between x and y."
   ]
  },
  {
   "cell_type": "code",
   "execution_count": 236,
   "metadata": {
    "scrolled": false
   },
   "outputs": [
    {
     "data": {
      "text/plain": [
       "<matplotlib.axes._subplots.AxesSubplot at 0x23e11c8b588>"
      ]
     },
     "execution_count": 236,
     "metadata": {},
     "output_type": "execute_result"
    },
    {
     "data": {
      "image/png": "[encoded data removed]",
      "text/plain": [
       "<Figure size 432x288 with 1 Axes>"
      ]
     },
     "metadata": {
      "needs_background": "light"
     },
     "output_type": "display_data"
    }
   ],
   "source": [
    "sns.distplot(df.Salary)"
   ]
  },
  {
   "cell_type": "code",
   "execution_count": 237,
   "metadata": {},
   "outputs": [
    {
     "data": {
      "text/plain": [
       "(array([ 6., 11.,  2.,  4.,  7.]),\n",
       " array([ 37731.,  54663.,  71595.,  88527., 105459., 122391.]),\n",
       " <a list of 5 Patch objects>)"
      ]
     },
     "execution_count": 237,
     "metadata": {},
     "output_type": "execute_result"
    },
    {
     "data": {
      "image/png": "[encoded data removed]",
      "text/plain": [
       "<Figure size 432x288 with 1 Axes>"
      ]
     },
     "metadata": {
      "needs_background": "light"
     },
     "output_type": "display_data"
    }
   ],
   "source": [
    "plt.hist(df.Salary, bins=5)"
   ]
  },
  {
   "cell_type": "markdown",
   "metadata": {},
   "source": [
    "Lets train the model using LinearRegression algorithm. Lets split the data in to X arrays(features) and y arrays(target variables)."
   ]
  },
  {
   "cell_type": "code",
   "execution_count": 238,
   "metadata": {},
   "outputs": [],
   "source": [
    "X = df[['YearsExperience']].values\n",
    "y = np.array(df['Salary'])"
   ]
  },
  {
   "cell_type": "code",
   "execution_count": 239,
   "metadata": {},
   "outputs": [
    {
     "name": "stdout",
     "output_type": "stream",
     "text": [
      "2 1\n"
     ]
    }
   ],
   "source": [
    "print(X.ndim,y.ndim)"
   ]
  },
  {
   "cell_type": "markdown",
   "metadata": {},
   "source": [
    "Now lets split the data in to trainig and testing data using train_test_split.\n",
    "We can use the training dataset to train the model and testing dataset to evaluate the model performance."
   ]
  },
  {
   "cell_type": "code",
   "execution_count": 240,
   "metadata": {
    "scrolled": true
   },
   "outputs": [
    {
     "name": "stdout",
     "output_type": "stream",
     "text": [
      "(21, 1) (9, 1)\n"
     ]
    }
   ],
   "source": [
    "X_train,X_test,y_train,y_test = train_test_split(X,y, test_size=0.3, random_state=42)\n",
    "print(X_train.shape,X_test.shape)"
   ]
  },
  {
   "cell_type": "markdown",
   "metadata": {},
   "source": [
    "#### Assumptions for Linear Regression Models"
   ]
  },
  {
   "cell_type": "markdown",
   "metadata": {},
   "source": [
    "#### Linear Assumption:\n",
    "Linear Regression algorithm assumes the data has a linear relationship. When we have a lot of features,\n",
    "we need to transform to have linear relationship."
   ]
  },
  {
   "cell_type": "markdown",
   "metadata": {},
   "source": [
    "#### Remove Noise:"
   ]
  },
  {
   "cell_type": "markdown",
   "metadata": {},
   "source": [
    "Linear Regression assumes the input and output varibles are noise free. Remove outliers in the data."
   ]
  },
  {
   "cell_type": "markdown",
   "metadata": {},
   "source": [
    "#### Remove Collinearity:"
   ]
  },
  {
   "cell_type": "markdown",
   "metadata": {},
   "source": [
    "The model will overfit we we have highly correlated fetures. Use pairwise plot to see the correlations\n",
    "and remove the most correlated"
   ]
  },
  {
   "cell_type": "markdown",
   "metadata": {},
   "source": [
    "#### Gaussian Distribution:"
   ]
  },
  {
   "cell_type": "markdown",
   "metadata": {},
   "source": [
    "The model will make reliabel predictions if x and y have normal distribution. To make variables look more gaussian,\n",
    "apply transforms(log, BoxCox) on the variables.Use displot or histplot to see the distribution."
   ]
  },
  {
   "cell_type": "markdown",
   "metadata": {},
   "source": [
    "#### Rescaling Features:"
   ]
  },
  {
   "cell_type": "markdown",
   "metadata": {},
   "source": [
    "Rescale the features to normalise the data. Use StandarScaler and MinMaxScaler to Standardize and normalize the data"
   ]
  },
  {
   "cell_type": "markdown",
   "metadata": {},
   "source": [
    "## Linear Regression"
   ]
  },
  {
   "cell_type": "code",
   "execution_count": 241,
   "metadata": {},
   "outputs": [
    {
     "data": {
      "text/plain": [
       "LinearRegression(copy_X=True, fit_intercept=True, n_jobs=None, normalize=False)"
      ]
     },
     "execution_count": 241,
     "metadata": {},
     "output_type": "execute_result"
    }
   ],
   "source": [
    "linear = LinearRegression()\n",
    "linear.fit(X_train,y_train)"
   ]
  },
  {
   "cell_type": "markdown",
   "metadata": {},
   "source": [
    "#### Model Evaluation:"
   ]
  },
  {
   "cell_type": "markdown",
   "metadata": {},
   "source": [
    "Here are three common evaluation metrics for regression problems:\n",
    "\n",
    "**Mean Absolute Error** (MAE) is the mean of the absolute value of the errors:\n",
    "\n",
    "$$\\frac 1n\\sum_{i=1}^n|y_i-\\hat{y}_i|$$\n",
    "\n",
    "**Mean Squared Error** (MSE) is the mean of the squared errors:\n",
    "\n",
    "$$\\frac 1n\\sum_{i=1}^n(y_i-\\hat{y}_i)^2$$\n",
    "\n",
    "**Root Mean Squared Error** (RMSE) is the square root of the mean of the squared errors:\n",
    "\n",
    "$$\\sqrt{\\frac 1n\\sum_{i=1}^n(y_i-\\hat{y}_i)^2}$$\n",
    "\n",
    "**R-squared**\n",
    "R-squared is a statistical measure that represents the goodness of fit of a regression model. The ideal value for r-square is 1. The closer the value of r-square to 1, the better is the model fitted. ... Note : The value of R-square can also be negative when the models fitted is worse than the average fitted model.\n",
    "\n",
    "Comparing these metrics:\n",
    "\n",
    "- **MAE** is the easiest to understand, because it's the average error.\n",
    "- **MSE** is more popular than MAE, because MSE \"punishes\" larger errors, which tends to be useful in the real world.\n",
    "- **RMSE** is even more popular than MSE, because RMSE is interpretable in the \"y\" units.\n",
    "\n",
    "All of these are **loss functions**, because we want to minimize them."
   ]
  },
  {
   "cell_type": "code",
   "execution_count": 242,
   "metadata": {},
   "outputs": [],
   "source": [
    "def print_evaluate(actual,predict):\n",
    "    mae = mean_absolute_error(actual,predict)\n",
    "    mse = mean_squared_error(actual,predict)\n",
    "    rmse = np.sqrt(mse)\n",
    "    r2_square = r2_score(actual,predict)\n",
    "    print(\"MAE:\", mae)\n",
    "    print(\"MSE:\", mse)\n",
    "    print(\"RMSE:\", rmse)    \n",
    "    print(\"R2_SQUARE:\", r2_square)\n",
    "    \n",
    "def evaluate(actual,predict):\n",
    "    mae = mean_absolute_error(actual,predict)\n",
    "    mse = mean_squared_error(actual,predict)\n",
    "    rmse = np.sqrt(mse)\n",
    "    r2_square = r2_score(actual,predict)\n",
    "    return mae,mse,rmse,r2_square\n"
   ]
  },
  {
   "cell_type": "code",
   "execution_count": 243,
   "metadata": {},
   "outputs": [],
   "source": [
    "y_predict = linear.predict(X_test)"
   ]
  },
  {
   "cell_type": "code",
   "execution_count": 244,
   "metadata": {
    "scrolled": true
   },
   "outputs": [
    {
     "name": "stdout",
     "output_type": "stream",
     "text": [
      "MAE: 5161.328710400183\n",
      "MSE: 37784662.46621314\n",
      "RMSE: 6146.92300799458\n",
      "R2_SQUARE: 0.9414466227178214\n"
     ]
    }
   ],
   "source": [
    "print_evaluate(y_test,y_predict)"
   ]
  },
  {
   "cell_type": "markdown",
   "metadata": {},
   "source": [
    "#### Predictions from Model"
   ]
  },
  {
   "cell_type": "code",
   "execution_count": 245,
   "metadata": {
    "scrolled": true
   },
   "outputs": [
    {
     "data": {
      "text/plain": [
       "<matplotlib.collections.PathCollection at 0x23e16674d48>"
      ]
     },
     "execution_count": 245,
     "metadata": {},
     "output_type": "execute_result"
    },
    {
     "data": {
      "image/png": "[encoded data removed]",
      "text/plain": [
       "<Figure size 432x288 with 1 Axes>"
      ]
     },
     "metadata": {
      "needs_background": "light"
     },
     "output_type": "display_data"
    }
   ],
   "source": [
    "plt.scatter(y_test,y_predict)"
   ]
  },
  {
   "cell_type": "code",
   "execution_count": 246,
   "metadata": {
    "scrolled": true
   },
   "outputs": [
    {
     "data": {
      "text/plain": [
       "<matplotlib.axes._subplots.AxesSubplot at 0x23e162c9c48>"
      ]
     },
     "execution_count": 246,
     "metadata": {},
     "output_type": "execute_result"
    },
    {
     "data": {
      "image/png": "[encoded data removed]",
      "text/plain": [
       "<Figure size 432x288 with 1 Axes>"
      ]
     },
     "metadata": {
      "needs_background": "light"
     },
     "output_type": "display_data"
    }
   ],
   "source": [
    "sns.distplot(y_test-y_predict)"
   ]
  },
  {
   "cell_type": "code",
   "execution_count": 247,
   "metadata": {},
   "outputs": [
    {
     "data": {
      "text/html": [
       "<div>\n",
       "<style scoped>\n",
       "    .dataframe tbody tr th:only-of-type {\n",
       "        vertical-align: middle;\n",
       "    }\n",
       "\n",
       "    .dataframe tbody tr th {\n",
       "        vertical-align: top;\n",
       "    }\n",
       "\n",
       "    .dataframe thead th {\n",
       "        text-align: right;\n",
       "    }\n",
       "</style>\n",
       "<table border=\"1\" class=\"dataframe\">\n",
       "  <thead>\n",
       "    <tr style=\"text-align: right;\">\n",
       "      <th></th>\n",
       "      <th>Model</th>\n",
       "      <th>MAE</th>\n",
       "      <th>MSE</th>\n",
       "      <th>RMSE</th>\n",
       "      <th>R2_SQUARE</th>\n",
       "    </tr>\n",
       "  </thead>\n",
       "  <tbody>\n",
       "    <tr>\n",
       "      <th>0</th>\n",
       "      <td>Linear Regression</td>\n",
       "      <td>5161.32871</td>\n",
       "      <td>3.778466e+07</td>\n",
       "      <td>6146.923008</td>\n",
       "      <td>0.941447</td>\n",
       "    </tr>\n",
       "  </tbody>\n",
       "</table>\n",
       "</div>"
      ],
      "text/plain": [
       "               Model         MAE           MSE         RMSE  R2_SQUARE\n",
       "0  Linear Regression  5161.32871  3.778466e+07  6146.923008   0.941447"
      ]
     },
     "execution_count": 247,
     "metadata": {},
     "output_type": "execute_result"
    }
   ],
   "source": [
    "results_df = pd.DataFrame([[\"Linear Regression\", *evaluate(y_test,y_predict)]],\n",
    "                          columns=['Model','MAE','MSE','RMSE','R2_SQUARE'])\n",
    "results_df"
   ]
  },
  {
   "cell_type": "code",
   "execution_count": 248,
   "metadata": {},
   "outputs": [
    {
     "data": {
      "text/plain": [
       "[<matplotlib.lines.Line2D at 0x23e163822c8>]"
      ]
     },
     "execution_count": 248,
     "metadata": {},
     "output_type": "execute_result"
    },
    {
     "data": {
      "image/png": "[encoded data removed]",
      "text/plain": [
       "<Figure size 432x288 with 1 Axes>"
      ]
     },
     "metadata": {
      "needs_background": "light"
     },
     "output_type": "display_data"
    }
   ],
   "source": [
    "plt.scatter(X,y)\n",
    "plt.plot(X,linear.predict(X),c='r')"
   ]
  },
  {
   "cell_type": "markdown",
   "metadata": {},
   "source": [
    "Lets normalize the data to improve the model performance"
   ]
  },
  {
   "cell_type": "code",
   "execution_count": 249,
   "metadata": {},
   "outputs": [
    {
     "name": "stdout",
     "output_type": "stream",
     "text": [
      "[9339.08172382] 25918.438334893202\n"
     ]
    }
   ],
   "source": [
    "print(linear.coef_,linear.intercept_)"
   ]
  },
  {
   "cell_type": "markdown",
   "metadata": {},
   "source": [
    "## Gradient Descent"
   ]
  },
  {
   "cell_type": "markdown",
   "metadata": {},
   "source": [
    "It is a optimization algorithm is to find a minimum of a function. Here, our function is cost function."
   ]
  },
  {
   "cell_type": "code",
   "execution_count": 324,
   "metadata": {
    "scrolled": true
   },
   "outputs": [],
   "source": [
    "x = df.iloc[:,[1]]\n"
   ]
  },
  {
   "cell_type": "code",
   "execution_count": 323,
   "metadata": {
    "collapsed": true
   },
   "outputs": [
    {
     "name": "stdout",
     "output_type": "stream",
     "text": [
      "M = 23869,b = 3800, MSE = 6502955270\n",
      "M = 3744,b = 1068, MSE = 4634089702\n",
      "M = 20587,b = 3820, MSE = 3313903645\n",
      "M = 6367,b = 1960, MSE = 2381117803\n",
      "M = 18249,b = 3970, MSE = 1721863506\n",
      "M = 8200,b = 2724, MSE = 1255745512\n",
      "M = 16579,b = 4209, MSE = 926001901\n",
      "M = 9474,b = 3394, MSE = 692556642\n",
      "M = 15380,b = 4508, MSE = 527114486\n",
      "M = 10354,b = 3996, MSE = 409697796\n",
      "M = 14515,b = 4846, MSE = 326201444\n",
      "M = 10957,b = 4547, MSE = 266666488\n",
      "M = 13886,b = 5209, MSE = 224061330\n",
      "M = 11365,b = 5059, MSE = 193421179\n",
      "M = 13423,b = 5587, MSE = 171240481\n",
      "M = 11635,b = 5542, MSE = 155043952\n",
      "M = 13079,b = 5974, MSE = 143083722\n",
      "M = 11808,b = 6000, MSE = 134125500\n",
      "M = 12819,b = 6363, MSE = 127297606\n",
      "M = 11913,b = 6440, MSE = 121984376\n",
      "M = 12618,b = 6753, MSE = 117750912\n",
      "M = 11970,b = 6863, MSE = 114289940\n",
      "M = 12460,b = 7140, MSE = 111384306\n",
      "M = 11994,b = 7273, MSE = 108880478\n",
      "M = 12332,b = 7523, MSE = 106669858\n",
      "M = 11995,b = 7670, MSE = 104675569\n",
      "M = 12225,b = 7900, MSE = 102843138\n",
      "M = 11980,b = 8057, MSE = 101133913\n",
      "M = 12135,b = 8272, MSE = 99520418\n",
      "M = 11954,b = 8434, MSE = 97983069\n",
      "M = 12055,b = 8637, MSE = 96507859\n",
      "M = 11920,b = 8802, MSE = 95084722\n",
      "M = 11984,b = 8996, MSE = 93706380\n",
      "M = 11882,b = 9162, MSE = 92367525\n",
      "M = 11920,b = 9347, MSE = 91064242\n",
      "M = 11840,b = 9513, MSE = 89793608\n",
      "M = 11860,b = 9692, MSE = 88553399\n",
      "M = 11796,b = 9857, MSE = 87341890\n",
      "M = 11803,b = 10030, MSE = 86157711\n",
      "M = 11752,b = 10193, MSE = 84999747\n",
      "M = 11750,b = 10361, MSE = 83867064\n",
      "M = 11707,b = 10521, MSE = 82758861\n",
      "M = 11699,b = 10685, MSE = 81674431\n",
      "M = 11661,b = 10843, MSE = 80613142\n",
      "M = 11649,b = 11003, MSE = 79574410\n",
      "M = 11617,b = 11158, MSE = 78557695\n",
      "M = 11602,b = 11314, MSE = 77562485\n",
      "M = 11572,b = 11466, MSE = 76588295\n",
      "M = 11555,b = 11618, MSE = 75634660\n",
      "M = 11528,b = 11768, MSE = 74701129\n",
      "M = 11510,b = 11916, MSE = 73787268\n",
      "M = 11485,b = 12063, MSE = 72892656\n",
      "M = 11466,b = 12208, MSE = 72016880\n",
      "M = 11443,b = 12352, MSE = 71159542\n",
      "M = 11424,b = 12494, MSE = 70320249\n",
      "M = 11401,b = 12634, MSE = 69498620\n",
      "M = 11382,b = 12774, MSE = 68694282\n",
      "M = 11360,b = 12911, MSE = 67906871\n",
      "M = 11341,b = 13048, MSE = 67136029\n",
      "M = 11320,b = 13182, MSE = 66381406\n",
      "M = 11301,b = 13316, MSE = 65642663\n",
      "M = 11281,b = 13448, MSE = 64919463\n",
      "M = 11262,b = 13578, MSE = 64211480\n",
      "M = 11243,b = 13707, MSE = 63518394\n",
      "M = 11224,b = 13835, MSE = 62839892\n",
      "M = 11205,b = 13962, MSE = 62175665\n",
      "M = 11187,b = 14087, MSE = 61525414\n",
      "M = 11168,b = 14211, MSE = 60888845\n",
      "M = 11150,b = 14333, MSE = 60265669\n",
      "M = 11132,b = 14454, MSE = 59655606\n",
      "M = 11114,b = 14574, MSE = 59058378\n",
      "M = 11096,b = 14693, MSE = 58473717\n",
      "M = 11079,b = 14810, MSE = 57901357\n",
      "M = 11062,b = 14926, MSE = 57341040\n",
      "M = 11045,b = 15041, MSE = 56792512\n",
      "M = 11028,b = 15155, MSE = 56255525\n",
      "M = 11011,b = 15267, MSE = 55729837\n",
      "M = 10995,b = 15379, MSE = 55215210\n",
      "M = 10978,b = 15489, MSE = 54711411\n",
      "M = 10962,b = 15598, MSE = 54218212\n",
      "M = 10946,b = 15706, MSE = 53735390\n",
      "M = 10930,b = 15812, MSE = 53262727\n",
      "M = 10915,b = 15918, MSE = 52800009\n",
      "M = 10899,b = 16022, MSE = 52347027\n",
      "M = 10884,b = 16126, MSE = 51903576\n",
      "M = 10869,b = 16228, MSE = 51469455\n",
      "M = 10854,b = 16329, MSE = 51044468\n",
      "M = 10839,b = 16429, MSE = 50628423\n",
      "M = 10824,b = 16528, MSE = 50221132\n",
      "M = 10810,b = 16626, MSE = 49822411\n",
      "M = 10795,b = 16723, MSE = 49432079\n",
      "M = 10781,b = 16819, MSE = 49049960\n",
      "M = 10767,b = 16914, MSE = 48675881\n",
      "M = 10753,b = 17008, MSE = 48309672\n",
      "M = 10739,b = 17101, MSE = 47951169\n",
      "M = 10726,b = 17193, MSE = 47600209\n",
      "M = 10712,b = 17283, MSE = 47256633\n",
      "M = 10699,b = 17373, MSE = 46920286\n",
      "M = 10685,b = 17463, MSE = 46591016\n",
      "M = 10672,b = 17551, MSE = 46268674\n",
      "M = 10659,b = 17638, MSE = 45953115\n",
      "M = 10647,b = 17724, MSE = 45644195\n",
      "M = 10634,b = 17809, MSE = 45341774\n",
      "M = 10621,b = 17894, MSE = 45045717\n",
      "M = 10609,b = 17977, MSE = 44755889\n",
      "M = 10597,b = 18060, MSE = 44472159\n",
      "M = 10585,b = 18142, MSE = 44194399\n",
      "M = 10573,b = 18223, MSE = 43922483\n",
      "M = 10561,b = 18303, MSE = 43656289\n",
      "M = 10549,b = 18382, MSE = 43395695\n",
      "M = 10537,b = 18460, MSE = 43140584\n",
      "M = 10526,b = 18538, MSE = 42890841\n",
      "M = 10515,b = 18614, MSE = 42646353\n",
      "M = 10503,b = 18690, MSE = 42407009\n",
      "M = 10492,b = 18765, MSE = 42172701\n",
      "M = 10481,b = 18840, MSE = 41943322\n",
      "M = 10470,b = 18913, MSE = 41718770\n",
      "M = 10459,b = 18986, MSE = 41498943\n",
      "M = 10449,b = 19058, MSE = 41283741\n",
      "M = 10438,b = 19129, MSE = 41073067\n",
      "M = 10428,b = 19200, MSE = 40866825\n",
      "M = 10417,b = 19269, MSE = 40664923\n",
      "M = 10407,b = 19338, MSE = 40467269\n",
      "M = 10397,b = 19407, MSE = 40273774\n",
      "M = 10387,b = 19474, MSE = 40084350\n",
      "M = 10377,b = 19541, MSE = 39898912\n",
      "M = 10367,b = 19607, MSE = 39717375\n",
      "M = 10358,b = 19673, MSE = 39539658\n",
      "M = 10348,b = 19737, MSE = 39365681\n",
      "M = 10338,b = 19801, MSE = 39195363\n",
      "M = 10329,b = 19865, MSE = 39028630\n",
      "M = 10320,b = 19927, MSE = 38865404\n",
      "M = 10311,b = 19989, MSE = 38705613\n",
      "M = 10301,b = 20051, MSE = 38549184\n",
      "M = 10292,b = 20111, MSE = 38396047\n",
      "M = 10283,b = 20172, MSE = 38246131\n",
      "M = 10275,b = 20231, MSE = 38099370\n",
      "M = 10266,b = 20290, MSE = 37955696\n",
      "M = 10257,b = 20348, MSE = 37815046\n",
      "M = 10249,b = 20406, MSE = 37677355\n",
      "M = 10240,b = 20462, MSE = 37542561\n",
      "M = 10232,b = 20519, MSE = 37410603\n",
      "M = 10224,b = 20575, MSE = 37281422\n",
      "M = 10215,b = 20630, MSE = 37154958\n",
      "M = 10207,b = 20684, MSE = 37031156\n",
      "M = 10199,b = 20738, MSE = 36909958\n",
      "M = 10191,b = 20792, MSE = 36791311\n",
      "M = 10184,b = 20845, MSE = 36675160\n",
      "M = 10176,b = 20897, MSE = 36561452\n",
      "M = 10168,b = 20949, MSE = 36450138\n",
      "M = 10161,b = 21000, MSE = 36341165\n",
      "M = 10153,b = 21051, MSE = 36234485\n",
      "M = 10146,b = 21101, MSE = 36130050\n",
      "M = 10138,b = 21150, MSE = 36027812\n",
      "M = 10131,b = 21200, MSE = 35927725\n",
      "M = 10124,b = 21248, MSE = 35829744\n",
      "M = 10117,b = 21296, MSE = 35733825\n",
      "M = 10110,b = 21344, MSE = 35639924\n",
      "M = 10103,b = 21391, MSE = 35547999\n",
      "M = 10096,b = 21437, MSE = 35458007\n",
      "M = 10089,b = 21483, MSE = 35369910\n",
      "M = 10082,b = 21529, MSE = 35283665\n",
      "M = 10075,b = 21574, MSE = 35199236\n",
      "M = 10069,b = 21619, MSE = 35116583\n",
      "M = 10062,b = 21663, MSE = 35035669\n",
      "M = 10056,b = 21706, MSE = 34956457\n",
      "M = 10049,b = 21750, MSE = 34878912\n",
      "M = 10043,b = 21792, MSE = 34802999\n",
      "M = 10037,b = 21835, MSE = 34728683\n",
      "M = 10030,b = 21877, MSE = 34655931\n",
      "M = 10024,b = 21918, MSE = 34584709\n",
      "M = 10018,b = 21959, MSE = 34514986\n",
      "M = 10012,b = 21999, MSE = 34446730\n",
      "M = 10006,b = 22040, MSE = 34379910\n",
      "M = 10000,b = 22079, MSE = 34314496\n",
      "M = 9995,b = 22118, MSE = 34250458\n",
      "M = 9989,b = 22157, MSE = 34187768\n",
      "M = 9983,b = 22196, MSE = 34126396\n",
      "M = 9977,b = 22234, MSE = 34066316\n",
      "M = 9972,b = 22271, MSE = 34007500\n",
      "M = 9966,b = 22309, MSE = 33949922\n",
      "M = 9961,b = 22346, MSE = 33893555\n",
      "M = 9955,b = 22382, MSE = 33838374\n",
      "M = 9950,b = 22418, MSE = 33784354\n",
      "M = 9945,b = 22454, MSE = 33731471\n",
      "M = 9940,b = 22489, MSE = 33679701\n",
      "M = 9934,b = 22524, MSE = 33629019\n",
      "M = 9929,b = 22558, MSE = 33579404\n",
      "M = 9924,b = 22593, MSE = 33530833\n",
      "M = 9919,b = 22627, MSE = 33483284\n",
      "M = 9914,b = 22660, MSE = 33436736\n",
      "M = 9909,b = 22693, MSE = 33391167\n",
      "M = 9904,b = 22726, MSE = 33346556\n",
      "M = 9900,b = 22758, MSE = 33302884\n",
      "M = 9895,b = 22790, MSE = 33260131\n",
      "M = 9890,b = 22822, MSE = 33218278\n",
      "M = 9885,b = 22854, MSE = 33177305\n",
      "M = 9881,b = 22885, MSE = 33137195\n",
      "M = 9876,b = 22915, MSE = 33097928\n",
      "M = 9872,b = 22946, MSE = 33059488\n",
      "M = 9867,b = 22976, MSE = 33021856\n",
      "M = 9863,b = 23006, MSE = 32985016\n",
      "M = 9859,b = 23035, MSE = 32948951\n",
      "M = 9854,b = 23064, MSE = 32913645\n",
      "M = 9850,b = 23093, MSE = 32879082\n",
      "M = 9846,b = 23122, MSE = 32845246\n",
      "M = 9841,b = 23150, MSE = 32812122\n",
      "M = 9837,b = 23178, MSE = 32779695\n",
      "M = 9833,b = 23205, MSE = 32747950\n",
      "M = 9829,b = 23233, MSE = 32716874\n",
      "M = 9825,b = 23260, MSE = 32686451\n",
      "M = 9821,b = 23287, MSE = 32656668\n",
      "M = 9817,b = 23313, MSE = 32627512\n",
      "M = 9813,b = 23339, MSE = 32598969\n",
      "M = 9810,b = 23365, MSE = 32571027\n",
      "M = 9806,b = 23391, MSE = 32543673\n",
      "M = 9802,b = 23416, MSE = 32516894\n",
      "M = 9798,b = 23442, MSE = 32490679\n",
      "M = 9795,b = 23466, MSE = 32465015\n",
      "M = 9791,b = 23491, MSE = 32439891\n",
      "M = 9787,b = 23515, MSE = 32415296\n",
      "M = 9784,b = 23539, MSE = 32391219\n",
      "M = 9780,b = 23563, MSE = 32367648\n",
      "M = 9777,b = 23587, MSE = 32344573\n",
      "M = 9773,b = 23610, MSE = 32321983\n",
      "M = 9770,b = 23633, MSE = 32299869\n",
      "M = 9766,b = 23656, MSE = 32278220\n",
      "M = 9763,b = 23679, MSE = 32257026\n",
      "M = 9760,b = 23701, MSE = 32236279\n",
      "M = 9756,b = 23723, MSE = 32215968\n",
      "M = 9753,b = 23745, MSE = 32196084\n",
      "M = 9750,b = 23767, MSE = 32176619\n",
      "M = 9747,b = 23788, MSE = 32157563\n",
      "M = 9744,b = 23809, MSE = 32138909\n"
     ]
    },
    {
     "name": "stdout",
     "output_type": "stream",
     "text": [
      "M = 9741,b = 23830, MSE = 32120646\n",
      "M = 9737,b = 23851, MSE = 32102768\n",
      "M = 9734,b = 23871, MSE = 32085266\n",
      "M = 9731,b = 23892, MSE = 32068133\n",
      "M = 9728,b = 23912, MSE = 32051360\n",
      "M = 9725,b = 23932, MSE = 32034940\n",
      "M = 9723,b = 23951, MSE = 32018865\n",
      "M = 9720,b = 23971, MSE = 32003128\n",
      "M = 9717,b = 23990, MSE = 31987723\n",
      "M = 9714,b = 24009, MSE = 31972642\n",
      "M = 9711,b = 24028, MSE = 31957878\n",
      "M = 9708,b = 24047, MSE = 31943425\n",
      "M = 9706,b = 24065, MSE = 31929275\n",
      "M = 9703,b = 24083, MSE = 31915424\n",
      "M = 9700,b = 24101, MSE = 31901864\n",
      "M = 9698,b = 24119, MSE = 31888589\n",
      "M = 9695,b = 24137, MSE = 31875594\n",
      "M = 9692,b = 24154, MSE = 31862872\n",
      "M = 9690,b = 24172, MSE = 31850417\n",
      "M = 9687,b = 24189, MSE = 31838225\n",
      "M = 9685,b = 24206, MSE = 31826289\n",
      "M = 9682,b = 24223, MSE = 31814605\n",
      "M = 9680,b = 24239, MSE = 31803166\n",
      "M = 9677,b = 24256, MSE = 31791968\n",
      "M = 9675,b = 24272, MSE = 31781006\n",
      "M = 9673,b = 24288, MSE = 31770274\n",
      "M = 9670,b = 24304, MSE = 31759768\n",
      "M = 9668,b = 24320, MSE = 31749483\n",
      "M = 9666,b = 24335, MSE = 31739414\n",
      "M = 9663,b = 24351, MSE = 31729558\n",
      "M = 9661,b = 24366, MSE = 31719908\n",
      "M = 9659,b = 24381, MSE = 31710462\n",
      "M = 9657,b = 24396, MSE = 31701214\n",
      "M = 9654,b = 24411, MSE = 31692162\n",
      "M = 9652,b = 24425, MSE = 31683299\n",
      "M = 9650,b = 24440, MSE = 31674623\n",
      "M = 9648,b = 24454, MSE = 31666130\n",
      "M = 9646,b = 24468, MSE = 31657815\n",
      "M = 9644,b = 24482, MSE = 31649675\n",
      "M = 9642,b = 24496, MSE = 31641707\n",
      "M = 9640,b = 24510, MSE = 31633906\n",
      "M = 9638,b = 24523, MSE = 31626269\n",
      "M = 9636,b = 24537, MSE = 31618793\n",
      "M = 9634,b = 24550, MSE = 31611474\n",
      "M = 9632,b = 24563, MSE = 31604309\n",
      "M = 9630,b = 24576, MSE = 31597295\n",
      "M = 9628,b = 24589, MSE = 31590429\n",
      "M = 9626,b = 24602, MSE = 31583707\n",
      "M = 9624,b = 24614, MSE = 31577126\n",
      "M = 9622,b = 24627, MSE = 31570684\n",
      "M = 9621,b = 24639, MSE = 31564378\n",
      "M = 9619,b = 24651, MSE = 31558204\n",
      "M = 9617,b = 24663, MSE = 31552160\n",
      "M = 9615,b = 24675, MSE = 31546243\n",
      "M = 9613,b = 24687, MSE = 31540451\n",
      "M = 9612,b = 24699, MSE = 31534780\n",
      "M = 9610,b = 24710, MSE = 31529229\n",
      "M = 9608,b = 24722, MSE = 31523795\n",
      "M = 9607,b = 24733, MSE = 31518475\n",
      "M = 9605,b = 24744, MSE = 31513267\n",
      "M = 9603,b = 24755, MSE = 31508169\n",
      "M = 9602,b = 24766, MSE = 31503177\n",
      "M = 9600,b = 24777, MSE = 31498291\n",
      "M = 9598,b = 24788, MSE = 31493508\n",
      "M = 9597,b = 24798, MSE = 31488825\n",
      "M = 9595,b = 24809, MSE = 31484241\n",
      "M = 9594,b = 24819, MSE = 31479753\n",
      "M = 9592,b = 24830, MSE = 31475360\n",
      "M = 9591,b = 24840, MSE = 31471059\n",
      "M = 9589,b = 24850, MSE = 31466849\n",
      "M = 9588,b = 24860, MSE = 31462727\n",
      "M = 9586,b = 24870, MSE = 31458692\n",
      "M = 9585,b = 24879, MSE = 31454742\n",
      "M = 9583,b = 24889, MSE = 31450875\n",
      "M = 9582,b = 24899, MSE = 31447089\n",
      "M = 9581,b = 24908, MSE = 31443383\n",
      "M = 9579,b = 24917, MSE = 31439755\n",
      "M = 9578,b = 24927, MSE = 31436203\n",
      "M = 9576,b = 24936, MSE = 31432726\n",
      "M = 9575,b = 24945, MSE = 31429322\n",
      "M = 9574,b = 24954, MSE = 31425990\n",
      "M = 9572,b = 24963, MSE = 31422728\n",
      "M = 9571,b = 24971, MSE = 31419535\n",
      "M = 9570,b = 24980, MSE = 31416408\n",
      "M = 9569,b = 24989, MSE = 31413348\n",
      "M = 9567,b = 24997, MSE = 31410352\n",
      "M = 9566,b = 25006, MSE = 31407419\n",
      "M = 9565,b = 25014, MSE = 31404547\n",
      "M = 9564,b = 25022, MSE = 31401736\n",
      "M = 9562,b = 25030, MSE = 31398985\n",
      "M = 9561,b = 25038, MSE = 31396291\n",
      "M = 9560,b = 25046, MSE = 31393654\n",
      "M = 9559,b = 25054, MSE = 31391072\n",
      "M = 9558,b = 25062, MSE = 31388544\n",
      "M = 9557,b = 25070, MSE = 31386070\n",
      "M = 9555,b = 25077, MSE = 31383648\n",
      "M = 9554,b = 25085, MSE = 31381277\n",
      "M = 9553,b = 25092, MSE = 31378956\n",
      "M = 9552,b = 25100, MSE = 31376683\n",
      "M = 9551,b = 25107, MSE = 31374458\n",
      "M = 9550,b = 25114, MSE = 31372281\n",
      "M = 9549,b = 25121, MSE = 31370149\n",
      "M = 9548,b = 25129, MSE = 31368061\n",
      "M = 9547,b = 25136, MSE = 31366018\n",
      "M = 9546,b = 25143, MSE = 31364018\n",
      "M = 9545,b = 25149, MSE = 31362060\n",
      "M = 9544,b = 25156, MSE = 31360143\n",
      "M = 9543,b = 25163, MSE = 31358266\n",
      "M = 9542,b = 25170, MSE = 31356429\n",
      "M = 9541,b = 25176, MSE = 31354631\n",
      "M = 9540,b = 25183, MSE = 31352870\n",
      "M = 9539,b = 25189, MSE = 31351146\n",
      "M = 9538,b = 25195, MSE = 31349459\n",
      "M = 9537,b = 25202, MSE = 31347807\n",
      "M = 9536,b = 25208, MSE = 31346190\n",
      "M = 9535,b = 25214, MSE = 31344607\n",
      "M = 9534,b = 25220, MSE = 31343057\n",
      "M = 9533,b = 25226, MSE = 31341540\n",
      "M = 9532,b = 25232, MSE = 31340055\n",
      "M = 9532,b = 25238, MSE = 31338601\n",
      "M = 9531,b = 25244, MSE = 31337177\n",
      "M = 9530,b = 25250, MSE = 31335784\n",
      "M = 9529,b = 25256, MSE = 31334420\n",
      "M = 9528,b = 25261, MSE = 31333084\n",
      "M = 9527,b = 25267, MSE = 31331777\n",
      "M = 9527,b = 25272, MSE = 31330497\n",
      "M = 9526,b = 25278, MSE = 31329244\n",
      "M = 9525,b = 25283, MSE = 31328018\n",
      "M = 9524,b = 25289, MSE = 31326817\n",
      "M = 9523,b = 25294, MSE = 31325642\n",
      "M = 9523,b = 25299, MSE = 31324491\n",
      "M = 9522,b = 25305, MSE = 31323365\n",
      "M = 9521,b = 25310, MSE = 31322262\n",
      "M = 9520,b = 25315, MSE = 31321182\n",
      "M = 9519,b = 25320, MSE = 31320125\n",
      "M = 9519,b = 25325, MSE = 31319091\n",
      "M = 9518,b = 25330, MSE = 31318078\n",
      "M = 9517,b = 25335, MSE = 31317086\n",
      "M = 9517,b = 25339, MSE = 31316115\n",
      "M = 9516,b = 25344, MSE = 31315165\n",
      "M = 9515,b = 25349, MSE = 31314235\n",
      "M = 9514,b = 25354, MSE = 31313324\n",
      "M = 9514,b = 25358, MSE = 31312433\n",
      "M = 9513,b = 25363, MSE = 31311560\n",
      "M = 9512,b = 25367, MSE = 31310705\n",
      "M = 9512,b = 25372, MSE = 31309869\n",
      "M = 9511,b = 25376, MSE = 31309050\n",
      "M = 9510,b = 25381, MSE = 31308249\n",
      "M = 9510,b = 25385, MSE = 31307464\n",
      "M = 9509,b = 25389, MSE = 31306696\n",
      "M = 9509,b = 25394, MSE = 31305943\n",
      "M = 9508,b = 25398, MSE = 31305207\n",
      "M = 9507,b = 25402, MSE = 31304486\n",
      "M = 9507,b = 25406, MSE = 31303781\n",
      "M = 9506,b = 25410, MSE = 31303090\n",
      "M = 9505,b = 25414, MSE = 31302414\n",
      "M = 9505,b = 25418, MSE = 31301752\n",
      "M = 9504,b = 25422, MSE = 31301104\n",
      "M = 9504,b = 25426, MSE = 31300469\n",
      "M = 9503,b = 25430, MSE = 31299848\n",
      "M = 9503,b = 25434, MSE = 31299240\n",
      "M = 9502,b = 25438, MSE = 31298645\n",
      "M = 9501,b = 25441, MSE = 31298062\n",
      "M = 9501,b = 25445, MSE = 31297492\n",
      "M = 9500,b = 25449, MSE = 31296934\n",
      "M = 9500,b = 25452, MSE = 31296387\n",
      "M = 9499,b = 25456, MSE = 31295852\n",
      "M = 9499,b = 25459, MSE = 31295328\n",
      "M = 9498,b = 25463, MSE = 31294815\n",
      "M = 9498,b = 25466, MSE = 31294313\n",
      "M = 9497,b = 25470, MSE = 31293821\n",
      "M = 9497,b = 25473, MSE = 31293340\n",
      "M = 9496,b = 25477, MSE = 31292869\n",
      "M = 9496,b = 25480, MSE = 31292408\n",
      "M = 9495,b = 25483, MSE = 31291956\n",
      "M = 9495,b = 25487, MSE = 31291514\n",
      "M = 9494,b = 25490, MSE = 31291082\n",
      "M = 9494,b = 25493, MSE = 31290658\n",
      "M = 9493,b = 25496, MSE = 31290244\n",
      "M = 9493,b = 25499, MSE = 31289838\n",
      "M = 9492,b = 25502, MSE = 31289440\n",
      "M = 9492,b = 25505, MSE = 31289051\n",
      "M = 9491,b = 25508, MSE = 31288670\n",
      "M = 9491,b = 25511, MSE = 31288298\n",
      "M = 9491,b = 25514, MSE = 31287933\n",
      "M = 9490,b = 25517, MSE = 31287575\n",
      "M = 9490,b = 25520, MSE = 31287226\n",
      "M = 9489,b = 25523, MSE = 31286883\n",
      "M = 9489,b = 25526, MSE = 31286548\n",
      "M = 9488,b = 25529, MSE = 31286220\n",
      "M = 9488,b = 25532, MSE = 31285898\n",
      "M = 9488,b = 25534, MSE = 31285584\n",
      "M = 9487,b = 25537, MSE = 31285276\n",
      "M = 9487,b = 25540, MSE = 31284975\n",
      "M = 9486,b = 25542, MSE = 31284680\n",
      "M = 9486,b = 25545, MSE = 31284391\n",
      "M = 9486,b = 25548, MSE = 31284108\n",
      "M = 9485,b = 25550, MSE = 31283831\n",
      "M = 9485,b = 25553, MSE = 31283560\n",
      "M = 9485,b = 25555, MSE = 31283295\n",
      "M = 9484,b = 25558, MSE = 31283035\n",
      "M = 9484,b = 25560, MSE = 31282781\n",
      "M = 9483,b = 25563, MSE = 31282532\n",
      "M = 9483,b = 25565, MSE = 31282288\n",
      "M = 9483,b = 25568, MSE = 31282050\n",
      "M = 9482,b = 25570, MSE = 31281816\n",
      "M = 9482,b = 25572, MSE = 31281588\n",
      "M = 9482,b = 25575, MSE = 31281364\n",
      "M = 9481,b = 25577, MSE = 31281145\n",
      "M = 9481,b = 25579, MSE = 31280930\n",
      "M = 9481,b = 25581, MSE = 31280720\n",
      "M = 9480,b = 25584, MSE = 31280515\n",
      "M = 9480,b = 25586, MSE = 31280314\n",
      "M = 9480,b = 25588, MSE = 31280117\n",
      "M = 9479,b = 25590, MSE = 31279924\n",
      "M = 9479,b = 25592, MSE = 31279735\n",
      "M = 9479,b = 25594, MSE = 31279550\n",
      "M = 9478,b = 25596, MSE = 31279369\n",
      "M = 9478,b = 25599, MSE = 31279192\n",
      "M = 9478,b = 25601, MSE = 31279019\n",
      "M = 9478,b = 25603, MSE = 31278849\n",
      "M = 9477,b = 25605, MSE = 31278683\n",
      "M = 9477,b = 25607, MSE = 31278520\n",
      "M = 9477,b = 25609, MSE = 31278361\n",
      "M = 9476,b = 25610, MSE = 31278205\n",
      "M = 9476,b = 25612, MSE = 31278052\n",
      "M = 9476,b = 25614, MSE = 31277903\n",
      "M = 9476,b = 25616, MSE = 31277757\n",
      "M = 9475,b = 25618, MSE = 31277613\n",
      "M = 9475,b = 25620, MSE = 31277473\n",
      "M = 9475,b = 25622, MSE = 31277336\n",
      "M = 9474,b = 25623, MSE = 31277202\n",
      "M = 9474,b = 25625, MSE = 31277070\n",
      "M = 9474,b = 25627, MSE = 31276941\n",
      "M = 9474,b = 25629, MSE = 31276815\n",
      "M = 9473,b = 25630, MSE = 31276692\n",
      "M = 9473,b = 25632, MSE = 31276571\n",
      "M = 9473,b = 25634, MSE = 31276453\n",
      "M = 9473,b = 25636, MSE = 31276337\n",
      "M = 9472,b = 25637, MSE = 31276224\n",
      "M = 9472,b = 25639, MSE = 31276113\n",
      "M = 9472,b = 25640, MSE = 31276004\n",
      "M = 9472,b = 25642, MSE = 31275898\n",
      "M = 9471,b = 25644, MSE = 31275794\n",
      "M = 9471,b = 25645, MSE = 31275692\n",
      "M = 9471,b = 25647, MSE = 31275592\n",
      "M = 9471,b = 25648, MSE = 31275495\n",
      "M = 9471,b = 25650, MSE = 31275399\n",
      "M = 9470,b = 25651, MSE = 31275305\n",
      "M = 9470,b = 25653, MSE = 31275214\n"
     ]
    },
    {
     "name": "stdout",
     "output_type": "stream",
     "text": [
      "M = 9470,b = 25654, MSE = 31275124\n",
      "M = 9470,b = 25656, MSE = 31275036\n",
      "M = 9469,b = 25657, MSE = 31274950\n",
      "M = 9469,b = 25659, MSE = 31274866\n",
      "M = 9469,b = 25660, MSE = 31274784\n",
      "M = 9469,b = 25661, MSE = 31274703\n",
      "M = 9469,b = 25663, MSE = 31274624\n",
      "M = 9468,b = 25664, MSE = 31274547\n",
      "M = 9468,b = 25665, MSE = 31274471\n",
      "M = 9468,b = 25667, MSE = 31274397\n",
      "M = 9468,b = 25668, MSE = 31274325\n",
      "M = 9468,b = 25669, MSE = 31274254\n",
      "M = 9467,b = 25671, MSE = 31274184\n",
      "M = 9467,b = 25672, MSE = 31274116\n",
      "M = 9467,b = 25673, MSE = 31274050\n",
      "M = 9467,b = 25674, MSE = 31273985\n",
      "M = 9467,b = 25676, MSE = 31273921\n",
      "M = 9466,b = 25677, MSE = 31273858\n",
      "M = 9466,b = 25678, MSE = 31273797\n",
      "M = 9466,b = 25679, MSE = 31273737\n",
      "M = 9466,b = 25681, MSE = 31273679\n",
      "M = 9466,b = 25682, MSE = 31273621\n",
      "M = 9466,b = 25683, MSE = 31273565\n",
      "M = 9465,b = 25684, MSE = 31273510\n",
      "M = 9465,b = 25685, MSE = 31273456\n",
      "M = 9465,b = 25686, MSE = 31273403\n",
      "M = 9465,b = 25687, MSE = 31273352\n",
      "M = 9465,b = 25689, MSE = 31273301\n",
      "M = 9465,b = 25690, MSE = 31273252\n",
      "M = 9464,b = 25691, MSE = 31273203\n",
      "M = 9464,b = 25692, MSE = 31273156\n",
      "M = 9464,b = 25693, MSE = 31273110\n",
      "M = 9464,b = 25694, MSE = 31273064\n",
      "M = 9464,b = 25695, MSE = 31273020\n",
      "M = 9464,b = 25696, MSE = 31272976\n",
      "M = 9464,b = 25697, MSE = 31272934\n",
      "M = 9463,b = 25698, MSE = 31272892\n",
      "M = 9463,b = 25699, MSE = 31272851\n",
      "M = 9463,b = 25700, MSE = 31272811\n",
      "M = 9463,b = 25701, MSE = 31272772\n",
      "M = 9463,b = 25702, MSE = 31272734\n",
      "M = 9463,b = 25703, MSE = 31272696\n",
      "M = 9463,b = 25704, MSE = 31272660\n",
      "M = 9462,b = 25705, MSE = 31272624\n",
      "M = 9462,b = 25706, MSE = 31272588\n",
      "M = 9462,b = 25707, MSE = 31272554\n",
      "M = 9462,b = 25707, MSE = 31272520\n",
      "M = 9462,b = 25708, MSE = 31272487\n",
      "M = 9462,b = 25709, MSE = 31272455\n",
      "M = 9462,b = 25710, MSE = 31272423\n",
      "M = 9461,b = 25711, MSE = 31272392\n",
      "M = 9461,b = 25712, MSE = 31272362\n",
      "M = 9461,b = 25713, MSE = 31272332\n",
      "M = 9461,b = 25713, MSE = 31272303\n",
      "M = 9461,b = 25714, MSE = 31272275\n",
      "M = 9461,b = 25715, MSE = 31272247\n",
      "M = 9461,b = 25716, MSE = 31272220\n",
      "M = 9461,b = 25717, MSE = 31272193\n",
      "M = 9460,b = 25718, MSE = 31272167\n",
      "M = 9460,b = 25718, MSE = 31272141\n",
      "M = 9460,b = 25719, MSE = 31272116\n",
      "M = 9460,b = 25720, MSE = 31272092\n",
      "M = 9460,b = 25721, MSE = 31272068\n",
      "M = 9460,b = 25721, MSE = 31272044\n",
      "M = 9460,b = 25722, MSE = 31272021\n",
      "M = 9460,b = 25723, MSE = 31271999\n",
      "M = 9460,b = 25724, MSE = 31271977\n",
      "M = 9459,b = 25724, MSE = 31271955\n",
      "M = 9459,b = 25725, MSE = 31271934\n",
      "M = 9459,b = 25726, MSE = 31271913\n",
      "M = 9459,b = 25726, MSE = 31271893\n",
      "M = 9459,b = 25727, MSE = 31271873\n",
      "M = 9459,b = 25728, MSE = 31271854\n",
      "M = 9459,b = 25728, MSE = 31271835\n",
      "M = 9459,b = 25729, MSE = 31271816\n",
      "M = 9459,b = 25730, MSE = 31271798\n",
      "M = 9459,b = 25730, MSE = 31271780\n",
      "M = 9458,b = 25731, MSE = 31271763\n",
      "M = 9458,b = 25732, MSE = 31271746\n",
      "M = 9458,b = 25732, MSE = 31271729\n",
      "M = 9458,b = 25733, MSE = 31271713\n",
      "M = 9458,b = 25734, MSE = 31271697\n",
      "M = 9458,b = 25734, MSE = 31271681\n",
      "M = 9458,b = 25735, MSE = 31271666\n",
      "M = 9458,b = 25735, MSE = 31271651\n",
      "M = 9458,b = 25736, MSE = 31271636\n",
      "M = 9458,b = 25737, MSE = 31271621\n",
      "M = 9458,b = 25737, MSE = 31271607\n",
      "M = 9457,b = 25738, MSE = 31271594\n",
      "M = 9457,b = 25738, MSE = 31271580\n",
      "M = 9457,b = 25739, MSE = 31271567\n",
      "M = 9457,b = 25739, MSE = 31271554\n",
      "M = 9457,b = 25740, MSE = 31271541\n",
      "M = 9457,b = 25741, MSE = 31271529\n",
      "M = 9457,b = 25741, MSE = 31271517\n",
      "M = 9457,b = 25742, MSE = 31271505\n",
      "M = 9457,b = 25742, MSE = 31271493\n",
      "M = 9457,b = 25743, MSE = 31271482\n",
      "M = 9457,b = 25743, MSE = 31271470\n",
      "M = 9457,b = 25744, MSE = 31271460\n",
      "M = 9457,b = 25744, MSE = 31271449\n",
      "M = 9456,b = 25745, MSE = 31271438\n",
      "M = 9456,b = 25745, MSE = 31271428\n",
      "M = 9456,b = 25746, MSE = 31271418\n",
      "M = 9456,b = 25746, MSE = 31271408\n",
      "M = 9456,b = 25747, MSE = 31271399\n",
      "M = 9456,b = 25747, MSE = 31271389\n",
      "M = 9456,b = 25748, MSE = 31271380\n",
      "M = 9456,b = 25748, MSE = 31271371\n",
      "M = 9456,b = 25749, MSE = 31271362\n",
      "M = 9456,b = 25749, MSE = 31271354\n",
      "M = 9456,b = 25749, MSE = 31271345\n",
      "M = 9456,b = 25750, MSE = 31271337\n",
      "M = 9456,b = 25750, MSE = 31271329\n",
      "M = 9456,b = 25751, MSE = 31271321\n",
      "M = 9455,b = 25751, MSE = 31271313\n",
      "M = 9455,b = 25752, MSE = 31271305\n",
      "M = 9455,b = 25752, MSE = 31271298\n",
      "M = 9455,b = 25752, MSE = 31271291\n",
      "M = 9455,b = 25753, MSE = 31271283\n",
      "M = 9455,b = 25753, MSE = 31271276\n",
      "M = 9455,b = 25754, MSE = 31271270\n",
      "M = 9455,b = 25754, MSE = 31271263\n",
      "M = 9455,b = 25755, MSE = 31271256\n",
      "M = 9455,b = 25755, MSE = 31271250\n",
      "M = 9455,b = 25755, MSE = 31271244\n",
      "M = 9455,b = 25756, MSE = 31271238\n",
      "M = 9455,b = 25756, MSE = 31271231\n",
      "M = 9455,b = 25756, MSE = 31271226\n",
      "M = 9455,b = 25757, MSE = 31271220\n",
      "M = 9455,b = 25757, MSE = 31271214\n",
      "M = 9455,b = 25758, MSE = 31271209\n",
      "M = 9454,b = 25758, MSE = 31271203\n",
      "M = 9454,b = 25758, MSE = 31271198\n",
      "M = 9454,b = 25759, MSE = 31271193\n",
      "M = 9454,b = 25759, MSE = 31271188\n",
      "M = 9454,b = 25759, MSE = 31271183\n",
      "M = 9454,b = 25760, MSE = 31271178\n",
      "M = 9454,b = 25760, MSE = 31271173\n",
      "M = 9454,b = 25760, MSE = 31271168\n",
      "M = 9454,b = 25761, MSE = 31271164\n",
      "M = 9454,b = 25761, MSE = 31271159\n",
      "M = 9454,b = 25761, MSE = 31271155\n",
      "M = 9454,b = 25762, MSE = 31271151\n",
      "M = 9454,b = 25762, MSE = 31271146\n",
      "M = 9454,b = 25762, MSE = 31271142\n",
      "M = 9454,b = 25763, MSE = 31271138\n",
      "M = 9454,b = 25763, MSE = 31271134\n",
      "M = 9454,b = 25763, MSE = 31271131\n",
      "M = 9454,b = 25764, MSE = 31271127\n",
      "M = 9454,b = 25764, MSE = 31271123\n",
      "M = 9454,b = 25764, MSE = 31271119\n",
      "M = 9454,b = 25764, MSE = 31271116\n",
      "M = 9453,b = 25765, MSE = 31271112\n",
      "M = 9453,b = 25765, MSE = 31271109\n",
      "M = 9453,b = 25765, MSE = 31271106\n",
      "M = 9453,b = 25766, MSE = 31271102\n",
      "M = 9453,b = 25766, MSE = 31271099\n",
      "M = 9453,b = 25766, MSE = 31271096\n",
      "M = 9453,b = 25766, MSE = 31271093\n",
      "M = 9453,b = 25767, MSE = 31271090\n",
      "M = 9453,b = 25767, MSE = 31271087\n",
      "M = 9453,b = 25767, MSE = 31271084\n",
      "M = 9453,b = 25767, MSE = 31271082\n",
      "M = 9453,b = 25768, MSE = 31271079\n",
      "M = 9453,b = 25768, MSE = 31271076\n",
      "M = 9453,b = 25768, MSE = 31271074\n",
      "M = 9453,b = 25768, MSE = 31271071\n",
      "M = 9453,b = 25769, MSE = 31271068\n",
      "M = 9453,b = 25769, MSE = 31271066\n",
      "M = 9453,b = 25769, MSE = 31271064\n",
      "M = 9453,b = 25769, MSE = 31271061\n",
      "M = 9453,b = 25770, MSE = 31271059\n",
      "M = 9453,b = 25770, MSE = 31271057\n",
      "M = 9453,b = 25770, MSE = 31271054\n",
      "M = 9453,b = 25770, MSE = 31271052\n",
      "M = 9453,b = 25771, MSE = 31271050\n",
      "M = 9453,b = 25771, MSE = 31271048\n",
      "M = 9453,b = 25771, MSE = 31271046\n",
      "M = 9453,b = 25771, MSE = 31271044\n",
      "M = 9452,b = 25771, MSE = 31271042\n",
      "M = 9452,b = 25772, MSE = 31271040\n",
      "M = 9452,b = 25772, MSE = 31271038\n",
      "M = 9452,b = 25772, MSE = 31271036\n",
      "M = 9452,b = 25772, MSE = 31271035\n",
      "M = 9452,b = 25772, MSE = 31271033\n",
      "M = 9452,b = 25773, MSE = 31271031\n",
      "M = 9452,b = 25773, MSE = 31271029\n",
      "M = 9452,b = 25773, MSE = 31271028\n",
      "M = 9452,b = 25773, MSE = 31271026\n",
      "M = 9452,b = 25773, MSE = 31271025\n",
      "M = 9452,b = 25774, MSE = 31271023\n",
      "M = 9452,b = 25774, MSE = 31271022\n",
      "M = 9452,b = 25774, MSE = 31271020\n",
      "M = 9452,b = 25774, MSE = 31271019\n",
      "M = 9452,b = 25774, MSE = 31271017\n",
      "M = 9452,b = 25775, MSE = 31271016\n",
      "M = 9452,b = 25775, MSE = 31271014\n",
      "M = 9452,b = 25775, MSE = 31271013\n",
      "M = 9452,b = 25775, MSE = 31271012\n",
      "M = 9452,b = 25775, MSE = 31271011\n",
      "M = 9452,b = 25775, MSE = 31271009\n",
      "M = 9452,b = 25776, MSE = 31271008\n",
      "M = 9452,b = 25776, MSE = 31271007\n",
      "M = 9452,b = 25776, MSE = 31271006\n",
      "M = 9452,b = 25776, MSE = 31271005\n",
      "M = 9452,b = 25776, MSE = 31271003\n",
      "M = 9452,b = 25776, MSE = 31271002\n",
      "M = 9452,b = 25777, MSE = 31271001\n",
      "M = 9452,b = 25777, MSE = 31271000\n",
      "M = 9452,b = 25777, MSE = 31270999\n",
      "M = 9452,b = 25777, MSE = 31270998\n",
      "M = 9452,b = 25777, MSE = 31270997\n",
      "M = 9452,b = 25777, MSE = 31270996\n",
      "M = 9452,b = 25778, MSE = 31270995\n",
      "M = 9452,b = 25778, MSE = 31270994\n",
      "M = 9452,b = 25778, MSE = 31270993\n",
      "M = 9451,b = 25778, MSE = 31270993\n",
      "M = 9451,b = 25778, MSE = 31270992\n",
      "M = 9451,b = 25778, MSE = 31270991\n",
      "M = 9451,b = 25778, MSE = 31270990\n",
      "M = 9451,b = 25779, MSE = 31270989\n",
      "M = 9451,b = 25779, MSE = 31270988\n",
      "M = 9451,b = 25779, MSE = 31270988\n",
      "M = 9451,b = 25779, MSE = 31270987\n",
      "M = 9451,b = 25779, MSE = 31270986\n",
      "M = 9451,b = 25779, MSE = 31270985\n",
      "M = 9451,b = 25779, MSE = 31270985\n",
      "M = 9451,b = 25780, MSE = 31270984\n",
      "M = 9451,b = 25780, MSE = 31270983\n",
      "M = 9451,b = 25780, MSE = 31270983\n",
      "M = 9451,b = 25780, MSE = 31270982\n",
      "M = 9451,b = 25780, MSE = 31270981\n",
      "M = 9451,b = 25780, MSE = 31270981\n",
      "M = 9451,b = 25780, MSE = 31270980\n",
      "M = 9451,b = 25780, MSE = 31270979\n",
      "M = 9451,b = 25781, MSE = 31270979\n",
      "M = 9451,b = 25781, MSE = 31270978\n",
      "M = 9451,b = 25781, MSE = 31270978\n",
      "M = 9451,b = 25781, MSE = 31270977\n",
      "M = 9451,b = 25781, MSE = 31270977\n",
      "M = 9451,b = 25781, MSE = 31270976\n",
      "M = 9451,b = 25781, MSE = 31270976\n",
      "M = 9451,b = 25781, MSE = 31270975\n",
      "M = 9451,b = 25781, MSE = 31270975\n",
      "M = 9451,b = 25782, MSE = 31270974\n",
      "M = 9451,b = 25782, MSE = 31270974\n",
      "M = 9451,b = 25782, MSE = 31270973\n",
      "M = 9451,b = 25782, MSE = 31270973\n",
      "M = 9451,b = 25782, MSE = 31270972\n",
      "M = 9451,b = 25782, MSE = 31270972\n",
      "M = 9451,b = 25782, MSE = 31270971\n",
      "M = 9451,b = 25782, MSE = 31270971\n",
      "M = 9451,b = 25782, MSE = 31270970\n",
      "M = 9451,b = 25782, MSE = 31270970\n",
      "M = 9451,b = 25783, MSE = 31270970\n",
      "M = 9451,b = 25783, MSE = 31270969\n",
      "M = 9451,b = 25783, MSE = 31270969\n",
      "M = 9451,b = 25783, MSE = 31270969\n",
      "M = 9451,b = 25783, MSE = 31270968\n",
      "M = 9451,b = 25783, MSE = 31270968\n",
      "M = 9451,b = 25783, MSE = 31270967\n",
      "M = 9451,b = 25783, MSE = 31270967\n",
      "M = 9451,b = 25783, MSE = 31270967\n",
      "M = 9451,b = 25783, MSE = 31270966\n",
      "M = 9451,b = 25783, MSE = 31270966\n",
      "M = 9451,b = 25784, MSE = 31270966\n",
      "M = 9451,b = 25784, MSE = 31270965\n",
      "M = 9451,b = 25784, MSE = 31270965\n",
      "M = 9451,b = 25784, MSE = 31270965\n",
      "M = 9451,b = 25784, MSE = 31270965\n",
      "M = 9451,b = 25784, MSE = 31270964\n",
      "M = 9451,b = 25784, MSE = 31270964\n",
      "M = 9451,b = 25784, MSE = 31270964\n",
      "M = 9451,b = 25784, MSE = 31270964\n",
      "M = 9451,b = 25784, MSE = 31270963\n",
      "M = 9451,b = 25784, MSE = 31270963\n",
      "M = 9451,b = 25784, MSE = 31270963\n",
      "M = 9451,b = 25785, MSE = 31270963\n",
      "M = 9451,b = 25785, MSE = 31270962\n",
      "M = 9451,b = 25785, MSE = 31270962\n",
      "M = 9450,b = 25785, MSE = 31270962\n",
      "M = 9450,b = 25785, MSE = 31270962\n",
      "M = 9450,b = 25785, MSE = 31270961\n",
      "M = 9450,b = 25785, MSE = 31270961\n",
      "M = 9450,b = 25785, MSE = 31270961\n",
      "M = 9450,b = 25785, MSE = 31270961\n",
      "M = 9450,b = 25785, MSE = 31270961\n",
      "M = 9450,b = 25785, MSE = 31270960\n",
      "M = 9450,b = 25785, MSE = 31270960\n",
      "M = 9450,b = 25785, MSE = 31270960\n",
      "M = 9450,b = 25785, MSE = 31270960\n",
      "M = 9450,b = 25786, MSE = 31270960\n",
      "M = 9450,b = 25786, MSE = 31270959\n",
      "M = 9450,b = 25786, MSE = 31270959\n",
      "M = 9450,b = 25786, MSE = 31270959\n",
      "M = 9450,b = 25786, MSE = 31270959\n",
      "M = 9450,b = 25786, MSE = 31270959\n",
      "M = 9450,b = 25786, MSE = 31270959\n",
      "M = 9450,b = 25786, MSE = 31270958\n",
      "M = 9450,b = 25786, MSE = 31270958\n",
      "M = 9450,b = 25786, MSE = 31270958\n",
      "M = 9450,b = 25786, MSE = 31270958\n",
      "M = 9450,b = 25786, MSE = 31270958\n",
      "M = 9450,b = 25786, MSE = 31270958\n",
      "M = 9450,b = 25786, MSE = 31270958\n",
      "M = 9450,b = 25786, MSE = 31270957\n",
      "M = 9450,b = 25786, MSE = 31270957\n",
      "M = 9450,b = 25787, MSE = 31270957\n",
      "M = 9450,b = 25787, MSE = 31270957\n",
      "M = 9450,b = 25787, MSE = 31270957\n",
      "M = 9450,b = 25787, MSE = 31270957\n",
      "M = 9450,b = 25787, MSE = 31270957\n",
      "M = 9450,b = 25787, MSE = 31270957\n",
      "M = 9450,b = 25787, MSE = 31270956\n",
      "M = 9450,b = 25787, MSE = 31270956\n",
      "M = 9450,b = 25787, MSE = 31270956\n",
      "M = 9450,b = 25787, MSE = 31270956\n",
      "M = 9450,b = 25787, MSE = 31270956\n",
      "M = 9450,b = 25787, MSE = 31270956\n",
      "M = 9450,b = 25787, MSE = 31270956\n",
      "M = 9450,b = 25787, MSE = 31270956\n",
      "M = 9450,b = 25787, MSE = 31270956\n",
      "M = 9450,b = 25787, MSE = 31270956\n",
      "M = 9450,b = 25787, MSE = 31270955\n",
      "M = 9450,b = 25787, MSE = 31270955\n",
      "M = 9450,b = 25787, MSE = 31270955\n",
      "M = 9450,b = 25787, MSE = 31270955\n",
      "M = 9450,b = 25787, MSE = 31270955\n",
      "M = 9450,b = 25788, MSE = 31270955\n"
     ]
    },
    {
     "name": "stdout",
     "output_type": "stream",
     "text": [
      "M = 9450,b = 25788, MSE = 31270955\n",
      "M = 9450,b = 25788, MSE = 31270955\n",
      "M = 9450,b = 25788, MSE = 31270955\n",
      "M = 9450,b = 25788, MSE = 31270955\n",
      "M = 9450,b = 25788, MSE = 31270955\n",
      "M = 9450,b = 25788, MSE = 31270955\n",
      "M = 9450,b = 25788, MSE = 31270955\n",
      "M = 9450,b = 25788, MSE = 31270954\n",
      "M = 9450,b = 25788, MSE = 31270954\n",
      "M = 9450,b = 25788, MSE = 31270954\n",
      "M = 9450,b = 25788, MSE = 31270954\n",
      "M = 9450,b = 25788, MSE = 31270954\n",
      "M = 9450,b = 25788, MSE = 31270954\n",
      "M = 9450,b = 25788, MSE = 31270954\n",
      "M = 9450,b = 25788, MSE = 31270954\n",
      "M = 9450,b = 25788, MSE = 31270954\n",
      "M = 9450,b = 25788, MSE = 31270954\n",
      "M = 9450,b = 25788, MSE = 31270954\n",
      "M = 9450,b = 25788, MSE = 31270954\n",
      "M = 9450,b = 25788, MSE = 31270954\n",
      "M = 9450,b = 25788, MSE = 31270954\n",
      "M = 9450,b = 25788, MSE = 31270954\n",
      "M = 9450,b = 25788, MSE = 31270954\n",
      "M = 9450,b = 25788, MSE = 31270954\n",
      "M = 9450,b = 25789, MSE = 31270953\n",
      "M = 9450,b = 25789, MSE = 31270953\n",
      "M = 9450,b = 25789, MSE = 31270953\n",
      "M = 9450,b = 25789, MSE = 31270953\n",
      "M = 9450,b = 25789, MSE = 31270953\n",
      "M = 9450,b = 25789, MSE = 31270953\n",
      "M = 9450,b = 25789, MSE = 31270953\n",
      "M = 9450,b = 25789, MSE = 31270953\n",
      "M = 9450,b = 25789, MSE = 31270953\n",
      "M = 9450,b = 25789, MSE = 31270953\n",
      "M = 9450,b = 25789, MSE = 31270953\n",
      "M = 9450,b = 25789, MSE = 31270953\n",
      "M = 9450,b = 25789, MSE = 31270953\n",
      "M = 9450,b = 25789, MSE = 31270953\n",
      "M = 9450,b = 25789, MSE = 31270953\n",
      "M = 9450,b = 25789, MSE = 31270953\n",
      "M = 9450,b = 25789, MSE = 31270953\n",
      "M = 9450,b = 25789, MSE = 31270953\n",
      "M = 9450,b = 25789, MSE = 31270953\n",
      "M = 9450,b = 25789, MSE = 31270953\n",
      "M = 9450,b = 25789, MSE = 31270953\n",
      "M = 9450,b = 25789, MSE = 31270953\n",
      "M = 9450,b = 25789, MSE = 31270953\n",
      "M = 9450,b = 25789, MSE = 31270953\n",
      "M = 9450,b = 25789, MSE = 31270953\n",
      "M = 9450,b = 25789, MSE = 31270953\n",
      "M = 9450,b = 25789, MSE = 31270953\n",
      "M = 9450,b = 25789, MSE = 31270952\n",
      "M = 9450,b = 25789, MSE = 31270952\n",
      "M = 9450,b = 25789, MSE = 31270952\n",
      "M = 9450,b = 25789, MSE = 31270952\n",
      "M = 9450,b = 25789, MSE = 31270952\n",
      "M = 9450,b = 25789, MSE = 31270952\n",
      "M = 9450,b = 25789, MSE = 31270952\n",
      "M = 9450,b = 25789, MSE = 31270952\n",
      "M = 9450,b = 25790, MSE = 31270952\n",
      "M = 9450,b = 25790, MSE = 31270952\n",
      "M = 9450,b = 25790, MSE = 31270952\n",
      "M = 9450,b = 25790, MSE = 31270952\n",
      "M = 9450,b = 25790, MSE = 31270952\n",
      "M = 9450,b = 25790, MSE = 31270952\n",
      "M = 9450,b = 25790, MSE = 31270952\n",
      "M = 9450,b = 25790, MSE = 31270952\n",
      "M = 9450,b = 25790, MSE = 31270952\n",
      "M = 9450,b = 25790, MSE = 31270952\n",
      "M = 9450,b = 25790, MSE = 31270952\n",
      "M = 9450,b = 25790, MSE = 31270952\n",
      "M = 9450,b = 25790, MSE = 31270952\n",
      "M = 9450,b = 25790, MSE = 31270952\n",
      "M = 9450,b = 25790, MSE = 31270952\n",
      "M = 9450,b = 25790, MSE = 31270952\n",
      "M = 9450,b = 25790, MSE = 31270952\n",
      "M = 9450,b = 25790, MSE = 31270952\n",
      "M = 9450,b = 25790, MSE = 31270952\n",
      "M = 9450,b = 25790, MSE = 31270952\n",
      "M = 9450,b = 25790, MSE = 31270952\n",
      "M = 9450,b = 25790, MSE = 31270952\n",
      "M = 9450,b = 25790, MSE = 31270952\n",
      "M = 9450,b = 25790, MSE = 31270952\n",
      "M = 9450,b = 25790, MSE = 31270952\n",
      "M = 9450,b = 25790, MSE = 31270952\n",
      "M = 9450,b = 25790, MSE = 31270952\n",
      "M = 9450,b = 25790, MSE = 31270952\n",
      "M = 9450,b = 25790, MSE = 31270952\n",
      "M = 9450,b = 25790, MSE = 31270952\n",
      "M = 9450,b = 25790, MSE = 31270952\n",
      "M = 9450,b = 25790, MSE = 31270952\n",
      "M = 9450,b = 25790, MSE = 31270952\n",
      "M = 9450,b = 25790, MSE = 31270952\n",
      "M = 9450,b = 25790, MSE = 31270952\n",
      "M = 9450,b = 25790, MSE = 31270952\n",
      "M = 9450,b = 25790, MSE = 31270952\n",
      "M = 9450,b = 25790, MSE = 31270952\n",
      "M = 9450,b = 25790, MSE = 31270952\n",
      "M = 9450,b = 25790, MSE = 31270952\n",
      "M = 9450,b = 25790, MSE = 31270952\n",
      "M = 9450,b = 25790, MSE = 31270952\n",
      "M = 9450,b = 25790, MSE = 31270952\n",
      "M = 9450,b = 25790, MSE = 31270952\n",
      "M = 9450,b = 25790, MSE = 31270952\n",
      "M = 9450,b = 25790, MSE = 31270952\n",
      "M = 9450,b = 25790, MSE = 31270952\n",
      "M = 9450,b = 25790, MSE = 31270952\n",
      "M = 9450,b = 25790, MSE = 31270952\n",
      "M = 9450,b = 25790, MSE = 31270952\n",
      "M = 9450,b = 25790, MSE = 31270952\n",
      "M = 9450,b = 25790, MSE = 31270952\n",
      "M = 9450,b = 25790, MSE = 31270952\n",
      "M = 9450,b = 25790, MSE = 31270952\n",
      "M = 9450,b = 25790, MSE = 31270952\n",
      "M = 9450,b = 25790, MSE = 31270952\n",
      "M = 9450,b = 25790, MSE = 31270952\n",
      "M = 9450,b = 25791, MSE = 31270952\n",
      "M = 9450,b = 25791, MSE = 31270952\n",
      "M = 9450,b = 25791, MSE = 31270952\n",
      "M = 9450,b = 25791, MSE = 31270952\n",
      "M = 9450,b = 25791, MSE = 31270952\n",
      "M = 9450,b = 25791, MSE = 31270952\n",
      "M = 9450,b = 25791, MSE = 31270952\n",
      "M = 9450,b = 25791, MSE = 31270951\n",
      "M = 9450,b = 25791, MSE = 31270951\n",
      "M = 9450,b = 25791, MSE = 31270951\n",
      "M = 9450,b = 25791, MSE = 31270951\n",
      "M = 9450,b = 25791, MSE = 31270951\n",
      "M = 9450,b = 25791, MSE = 31270951\n",
      "M = 9450,b = 25791, MSE = 31270951\n",
      "M = 9450,b = 25791, MSE = 31270951\n",
      "M = 9450,b = 25791, MSE = 31270951\n",
      "M = 9450,b = 25791, MSE = 31270951\n",
      "M = 9450,b = 25791, MSE = 31270951\n",
      "M = 9450,b = 25791, MSE = 31270951\n",
      "M = 9450,b = 25791, MSE = 31270951\n",
      "M = 9450,b = 25791, MSE = 31270951\n",
      "M = 9450,b = 25791, MSE = 31270951\n",
      "M = 9450,b = 25791, MSE = 31270951\n",
      "M = 9450,b = 25791, MSE = 31270951\n",
      "M = 9450,b = 25791, MSE = 31270951\n",
      "M = 9450,b = 25791, MSE = 31270951\n",
      "M = 9450,b = 25791, MSE = 31270951\n",
      "M = 9450,b = 25791, MSE = 31270951\n",
      "M = 9450,b = 25791, MSE = 31270951\n",
      "M = 9450,b = 25791, MSE = 31270951\n",
      "M = 9450,b = 25791, MSE = 31270951\n",
      "M = 9450,b = 25791, MSE = 31270951\n",
      "M = 9450,b = 25791, MSE = 31270951\n",
      "M = 9450,b = 25791, MSE = 31270951\n",
      "M = 9450,b = 25791, MSE = 31270951\n",
      "M = 9450,b = 25791, MSE = 31270951\n",
      "M = 9450,b = 25791, MSE = 31270951\n",
      "M = 9450,b = 25791, MSE = 31270951\n",
      "M = 9450,b = 25791, MSE = 31270951\n",
      "M = 9450,b = 25791, MSE = 31270951\n",
      "M = 9450,b = 25791, MSE = 31270951\n",
      "M = 9450,b = 25791, MSE = 31270951\n",
      "M = 9450,b = 25791, MSE = 31270951\n",
      "M = 9450,b = 25791, MSE = 31270951\n",
      "M = 9450,b = 25791, MSE = 31270951\n",
      "M = 9450,b = 25791, MSE = 31270951\n",
      "M = 9450,b = 25791, MSE = 31270951\n",
      "M = 9450,b = 25791, MSE = 31270951\n",
      "M = 9450,b = 25791, MSE = 31270951\n",
      "M = 9450,b = 25791, MSE = 31270951\n",
      "M = 9450,b = 25791, MSE = 31270951\n",
      "M = 9450,b = 25791, MSE = 31270951\n",
      "M = 9450,b = 25791, MSE = 31270951\n",
      "M = 9450,b = 25791, MSE = 31270951\n",
      "M = 9450,b = 25791, MSE = 31270951\n",
      "M = 9450,b = 25791, MSE = 31270951\n",
      "M = 9450,b = 25791, MSE = 31270951\n",
      "M = 9450,b = 25791, MSE = 31270951\n",
      "M = 9450,b = 25791, MSE = 31270951\n",
      "M = 9450,b = 25791, MSE = 31270951\n",
      "M = 9450,b = 25791, MSE = 31270951\n",
      "M = 9450,b = 25791, MSE = 31270951\n",
      "M = 9450,b = 25791, MSE = 31270951\n",
      "M = 9450,b = 25791, MSE = 31270951\n",
      "M = 9450,b = 25791, MSE = 31270951\n",
      "M = 9450,b = 25791, MSE = 31270951\n",
      "M = 9450,b = 25791, MSE = 31270951\n",
      "M = 9450,b = 25791, MSE = 31270951\n",
      "M = 9450,b = 25791, MSE = 31270951\n",
      "M = 9450,b = 25791, MSE = 31270951\n"
     ]
    }
   ],
   "source": [
    "m=0\n",
    "b=0\n",
    "epoch = 1000\n",
    "l = 0.025\n",
    "x = df.iloc[:,0]\n",
    "n = float(len(x)) # Number of elements in X\n",
    "\n",
    " \n",
    "for i in range(epoch):\n",
    "    y_pred = m*x +b\n",
    "    D_m = (-2/n) * sum(x * (y - y_pred))  # Derivative wrt m\n",
    "    D_b = (-2/n) * sum(y - y_pred)  # Derivative wrt b\n",
    "    m = m - l*D_m\n",
    "    b = b - l*D_b\n",
    "    print(\"M = %d,b = %d, MSE = %d\" %(m,b,(mean_squared_error(y,y_pred))))\n"
   ]
  },
  {
   "cell_type": "code",
   "execution_count": 316,
   "metadata": {},
   "outputs": [
    {
     "data": {
      "image/png": "[encoded data removed]",
      "text/plain": [
       "<Figure size 432x288 with 1 Axes>"
      ]
     },
     "metadata": {
      "needs_background": "light"
     },
     "output_type": "display_data"
    }
   ],
   "source": [
    "Y_pred = 9449*X + 25792\n",
    "plt.scatter(X, y) \n",
    "plt.plot([min(X), max(X)], [min(Y_pred), max(Y_pred)], color='red')  # regression line\n",
    "plt.show()"
   ]
  },
  {
   "cell_type": "code",
   "execution_count": 321,
   "metadata": {},
   "outputs": [
    {
     "data": {
      "text/plain": [
       "0.9569566153601797"
      ]
     },
     "execution_count": 321,
     "metadata": {},
     "output_type": "execute_result"
    }
   ],
   "source": [
    "r2_score(y,Y_pred)"
   ]
  },
  {
   "cell_type": "code",
   "execution_count": 326,
   "metadata": {},
   "outputs": [
    {
     "data": {
      "text/html": [
       "<div>\n",
       "<style scoped>\n",
       "    .dataframe tbody tr th:only-of-type {\n",
       "        vertical-align: middle;\n",
       "    }\n",
       "\n",
       "    .dataframe tbody tr th {\n",
       "        vertical-align: top;\n",
       "    }\n",
       "\n",
       "    .dataframe thead th {\n",
       "        text-align: right;\n",
       "    }\n",
       "</style>\n",
       "<table border=\"1\" class=\"dataframe\">\n",
       "  <thead>\n",
       "    <tr style=\"text-align: right;\">\n",
       "      <th></th>\n",
       "      <th>Model</th>\n",
       "      <th>MAE</th>\n",
       "      <th>MSE</th>\n",
       "      <th>RMSE</th>\n",
       "      <th>R2_SQUARE</th>\n",
       "    </tr>\n",
       "  </thead>\n",
       "  <tbody>\n",
       "    <tr>\n",
       "      <th>0</th>\n",
       "      <td>Linear Regression</td>\n",
       "      <td>4643.88</td>\n",
       "      <td>3.127099e+07</td>\n",
       "      <td>5592.046778</td>\n",
       "      <td>0.956957</td>\n",
       "    </tr>\n",
       "  </tbody>\n",
       "</table>\n",
       "</div>"
      ],
      "text/plain": [
       "               Model      MAE           MSE         RMSE  R2_SQUARE\n",
       "0  Linear Regression  4643.88  3.127099e+07  5592.046778   0.956957"
      ]
     },
     "execution_count": 326,
     "metadata": {},
     "output_type": "execute_result"
    }
   ],
   "source": [
    "results_df = pd.DataFrame([[\"Linear Regression\", *evaluate(y,Y_pred)]],\n",
    "                          columns=['Model','MAE','MSE','RMSE','R2_SQUARE'])\n",
    "results_df"
   ]
  },
  {
   "cell_type": "markdown",
   "metadata": {},
   "source": [
    "The accuracy imporved using Gradient Descent Optimization"
   ]
  },
  {
   "cell_type": "code",
   "execution_count": null,
   "metadata": {},
   "outputs": [],
   "source": []
  }
 ],
 "metadata": {
  "kernelspec": {
   "display_name": "Python 3",
   "language": "python",
   "name": "python3"
  },
  "language_info": {
   "codemirror_mode": {
    "name": "ipython",
    "version": 3
   },
   "file_extension": ".py",
   "mimetype": "text/x-python",
   "name": "python",
   "nbconvert_exporter": "python",
   "pygments_lexer": "ipython3",
   "version": "3.7.6"
  }
 },
 "nbformat": 4,
 "nbformat_minor": 2
}
